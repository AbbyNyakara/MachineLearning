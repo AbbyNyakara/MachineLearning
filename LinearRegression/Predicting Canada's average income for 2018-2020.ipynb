{
 "cells": [
  {
   "cell_type": "markdown",
   "id": "0b83b10e",
   "metadata": {},
   "source": [
    "# SINGLE VARIABLE LINEAR REGRESSION MODEL "
   ]
  },
  {
   "cell_type": "markdown",
   "id": "c0b66498",
   "metadata": {},
   "source": [
    "## Import the libraries "
   ]
  },
  {
   "cell_type": "code",
   "execution_count": 23,
   "id": "3a53b2e2",
   "metadata": {},
   "outputs": [],
   "source": [
    "import pandas as pd\n",
    "import numpy as np\n",
    "import matplotlib.pyplot as plt \n",
    "from sklearn import linear_model"
   ]
  },
  {
   "cell_type": "markdown",
   "id": "83cd1cd4",
   "metadata": {},
   "source": [
    "### Import the file "
   ]
  },
  {
   "cell_type": "code",
   "execution_count": 2,
   "id": "86e6ffe6",
   "metadata": {},
   "outputs": [
    {
     "data": {
      "text/html": [
       "<div>\n",
       "<style scoped>\n",
       "    .dataframe tbody tr th:only-of-type {\n",
       "        vertical-align: middle;\n",
       "    }\n",
       "\n",
       "    .dataframe tbody tr th {\n",
       "        vertical-align: top;\n",
       "    }\n",
       "\n",
       "    .dataframe thead th {\n",
       "        text-align: right;\n",
       "    }\n",
       "</style>\n",
       "<table border=\"1\" class=\"dataframe\">\n",
       "  <thead>\n",
       "    <tr style=\"text-align: right;\">\n",
       "      <th></th>\n",
       "      <th>year</th>\n",
       "      <th>per capita income (US$)</th>\n",
       "    </tr>\n",
       "  </thead>\n",
       "  <tbody>\n",
       "    <tr>\n",
       "      <th>0</th>\n",
       "      <td>1970</td>\n",
       "      <td>3399.299037</td>\n",
       "    </tr>\n",
       "    <tr>\n",
       "      <th>1</th>\n",
       "      <td>1971</td>\n",
       "      <td>3768.297935</td>\n",
       "    </tr>\n",
       "    <tr>\n",
       "      <th>2</th>\n",
       "      <td>1972</td>\n",
       "      <td>4251.175484</td>\n",
       "    </tr>\n",
       "    <tr>\n",
       "      <th>3</th>\n",
       "      <td>1973</td>\n",
       "      <td>4804.463248</td>\n",
       "    </tr>\n",
       "    <tr>\n",
       "      <th>4</th>\n",
       "      <td>1974</td>\n",
       "      <td>5576.514583</td>\n",
       "    </tr>\n",
       "  </tbody>\n",
       "</table>\n",
       "</div>"
      ],
      "text/plain": [
       "   year  per capita income (US$)\n",
       "0  1970              3399.299037\n",
       "1  1971              3768.297935\n",
       "2  1972              4251.175484\n",
       "3  1973              4804.463248\n",
       "4  1974              5576.514583"
      ]
     },
     "execution_count": 2,
     "metadata": {},
     "output_type": "execute_result"
    }
   ],
   "source": [
    "db = pd.read_csv('canada_per_capita_income.csv')\n",
    "db.head()"
   ]
  },
  {
   "cell_type": "code",
   "execution_count": 4,
   "id": "4e371e0c",
   "metadata": {},
   "outputs": [
    {
     "data": {
      "text/html": [
       "<div>\n",
       "<style scoped>\n",
       "    .dataframe tbody tr th:only-of-type {\n",
       "        vertical-align: middle;\n",
       "    }\n",
       "\n",
       "    .dataframe tbody tr th {\n",
       "        vertical-align: top;\n",
       "    }\n",
       "\n",
       "    .dataframe thead th {\n",
       "        text-align: right;\n",
       "    }\n",
       "</style>\n",
       "<table border=\"1\" class=\"dataframe\">\n",
       "  <thead>\n",
       "    <tr style=\"text-align: right;\">\n",
       "      <th></th>\n",
       "      <th>year</th>\n",
       "      <th>per capita income (US$)</th>\n",
       "    </tr>\n",
       "  </thead>\n",
       "  <tbody>\n",
       "    <tr>\n",
       "      <th>42</th>\n",
       "      <td>2012</td>\n",
       "      <td>42665.25597</td>\n",
       "    </tr>\n",
       "    <tr>\n",
       "      <th>43</th>\n",
       "      <td>2013</td>\n",
       "      <td>42676.46837</td>\n",
       "    </tr>\n",
       "    <tr>\n",
       "      <th>44</th>\n",
       "      <td>2014</td>\n",
       "      <td>41039.89360</td>\n",
       "    </tr>\n",
       "    <tr>\n",
       "      <th>45</th>\n",
       "      <td>2015</td>\n",
       "      <td>35175.18898</td>\n",
       "    </tr>\n",
       "    <tr>\n",
       "      <th>46</th>\n",
       "      <td>2016</td>\n",
       "      <td>34229.19363</td>\n",
       "    </tr>\n",
       "  </tbody>\n",
       "</table>\n",
       "</div>"
      ],
      "text/plain": [
       "    year  per capita income (US$)\n",
       "42  2012              42665.25597\n",
       "43  2013              42676.46837\n",
       "44  2014              41039.89360\n",
       "45  2015              35175.18898\n",
       "46  2016              34229.19363"
      ]
     },
     "execution_count": 4,
     "metadata": {},
     "output_type": "execute_result"
    }
   ],
   "source": [
    "db.tail()"
   ]
  },
  {
   "cell_type": "markdown",
   "id": "b43a8953",
   "metadata": {},
   "source": [
    "#### Assignment - Use linear regression to predict the per capita income for 2017 - 2021"
   ]
  },
  {
   "cell_type": "code",
   "execution_count": 6,
   "id": "ebd148e7",
   "metadata": {},
   "outputs": [
    {
     "data": {
      "text/plain": [
       "(47, 2)"
      ]
     },
     "execution_count": 6,
     "metadata": {},
     "output_type": "execute_result"
    }
   ],
   "source": [
    "db.shape"
   ]
  },
  {
   "cell_type": "code",
   "execution_count": 8,
   "id": "1f1de940",
   "metadata": {},
   "outputs": [
    {
     "name": "stdout",
     "output_type": "stream",
     "text": [
      "<class 'pandas.core.frame.DataFrame'>\n",
      "RangeIndex: 47 entries, 0 to 46\n",
      "Data columns (total 2 columns):\n",
      " #   Column                   Non-Null Count  Dtype  \n",
      "---  ------                   --------------  -----  \n",
      " 0   year                     47 non-null     int64  \n",
      " 1   per capita income (US$)  47 non-null     float64\n",
      "dtypes: float64(1), int64(1)\n",
      "memory usage: 880.0 bytes\n"
     ]
    }
   ],
   "source": [
    "db.info() # Luckily this dataset contains no null values "
   ]
  },
  {
   "cell_type": "markdown",
   "id": "af25fccd",
   "metadata": {},
   "source": [
    "## Visualizations - for the general outlook of the dataset "
   ]
  },
  {
   "cell_type": "code",
   "execution_count": 10,
   "id": "b0da5462",
   "metadata": {},
   "outputs": [
    {
     "data": {
      "text/plain": [
       "Index(['year', 'per capita income (US$)'], dtype='object')"
      ]
     },
     "execution_count": 10,
     "metadata": {},
     "output_type": "execute_result"
    }
   ],
   "source": [
    "db.columns # Note that the per capita income column name has spaces. This will not work with python "
   ]
  },
  {
   "cell_type": "code",
   "execution_count": 12,
   "id": "e15f05b9",
   "metadata": {},
   "outputs": [],
   "source": [
    "#db.columns.str.replace(' ', '_') This will replace the spaces in the column names with an underscore. "
   ]
  },
  {
   "cell_type": "code",
   "execution_count": 13,
   "id": "6b021bf0",
   "metadata": {},
   "outputs": [],
   "source": [
    "col_names = ['year', 'income']  # Alternatively create a list of the new column names and assign them to your new columns \n",
    "\n",
    "# However, this can be a bit tedious if you have very many columns in your dataset"
   ]
  },
  {
   "cell_type": "code",
   "execution_count": 15,
   "id": "065ab5f4",
   "metadata": {},
   "outputs": [
    {
     "data": {
      "text/plain": [
       "Index(['year', 'income'], dtype='object')"
      ]
     },
     "execution_count": 15,
     "metadata": {},
     "output_type": "execute_result"
    }
   ],
   "source": [
    "db.columns = col_names\n",
    "db.columns"
   ]
  },
  {
   "cell_type": "code",
   "execution_count": 19,
   "id": "b6edf9b9",
   "metadata": {},
   "outputs": [
    {
     "data": {
      "text/plain": [
       "<matplotlib.collections.PathCollection at 0x28665e54fa0>"
      ]
     },
     "execution_count": 19,
     "metadata": {},
     "output_type": "execute_result"
    },
    {
     "data": {
      "image/png": "[encoded data removed]",
      "text/plain": [
       "<Figure size 432x288 with 1 Axes>"
      ]
     },
     "metadata": {
      "needs_background": "light"
     },
     "output_type": "display_data"
    }
   ],
   "source": [
    "plt.scatter(db.year, db.income)"
   ]
  },
  {
   "cell_type": "markdown",
   "id": "943412c4",
   "metadata": {},
   "source": [
    "### The above is the default way the scatter plot appears when drawn. However, as you can see, there are some things that need improvement \n",
    " \n",
    "\n",
    "#### 1. The x-axis and y-axis are not labelled. \n",
    "#### 2. The style of points and the colors of the graph can also be changed"
   ]
  },
  {
   "cell_type": "code",
   "execution_count": 22,
   "id": "9faa7050",
   "metadata": {},
   "outputs": [
    {
     "data": {
      "text/plain": [
       "<matplotlib.collections.PathCollection at 0x28665effd30>"
      ]
     },
     "execution_count": 22,
     "metadata": {},
     "output_type": "execute_result"
    },
    {
     "data": {
      "image/png": "[encoded data removed]",
      "text/plain": [
       "<Figure size 432x288 with 1 Axes>"
      ]
     },
     "metadata": {
      "needs_background": "light"
     },
     "output_type": "display_data"
    }
   ],
   "source": [
    "plt.xlabel('year')\n",
    "plt.ylabel('per capita income(US$)')\n",
    "plt.scatter(db.year, db.income, color='red', marker = 'x')"
   ]
  },
  {
   "cell_type": "markdown",
   "id": "9b2717d0",
   "metadata": {},
   "source": [
    "### READ THE SCIKIT LEARN MODULE FOR THE FIT() METHOD "
   ]
  },
  {
   "cell_type": "code",
   "execution_count": 31,
   "id": "34b3cbcc",
   "metadata": {},
   "outputs": [
    {
     "data": {
      "text/plain": [
       "LinearRegression()"
      ]
     },
     "execution_count": 31,
     "metadata": {},
     "output_type": "execute_result"
    }
   ],
   "source": [
    "## From the new improved graph, we can see that the dataset is somewhat good for a linear model/regression model\n",
    "model = linear_model.LinearRegression()   # Create an object instance \n",
    "model.fit(db[['year']], db.income)        "
   ]
  },
  {
   "cell_type": "code",
   "execution_count": 32,
   "id": "6677ee2b",
   "metadata": {
    "scrolled": true
   },
   "outputs": [
    {
     "data": {
      "text/plain": [
       "array([41288.69409442])"
      ]
     },
     "execution_count": 32,
     "metadata": {},
     "output_type": "execute_result"
    }
   ],
   "source": [
    "model.predict(np.array(2020).reshape(-1,1))  "
   ]
  },
  {
   "cell_type": "code",
   "execution_count": null,
   "id": "455878a6",
   "metadata": {},
   "outputs": [],
   "source": [
    "## This model is based on the mathematical formula Y = MX + B\n",
    "### Y - is the y value, m is the slope/gradient(coefficient) of the graph, X is the x value and B is the Y intercepy\n",
    "###(where the graph crosses the y-axis )"
   ]
  },
  {
   "cell_type": "code",
   "execution_count": 34,
   "id": "15002212",
   "metadata": {},
   "outputs": [
    {
     "data": {
      "text/plain": [
       "array([828.46507522])"
      ]
     },
     "execution_count": 34,
     "metadata": {},
     "output_type": "execute_result"
    }
   ],
   "source": [
    "model.coef_  # This is the coefficient(slope of the graph)"
   ]
  },
  {
   "cell_type": "code",
   "execution_count": 35,
   "id": "eb714089",
   "metadata": {},
   "outputs": [
    {
     "data": {
      "text/plain": [
       "-1632210.7578554575"
      ]
     },
     "execution_count": 35,
     "metadata": {},
     "output_type": "execute_result"
    }
   ],
   "source": [
    "model.intercept_    # This is the y-intercept "
   ]
  },
  {
   "cell_type": "code",
   "execution_count": 37,
   "id": "b85cc957",
   "metadata": {},
   "outputs": [
    {
     "data": {
      "text/plain": [
       "41288.694088942604"
      ]
     },
     "execution_count": 37,
     "metadata": {},
     "output_type": "execute_result"
    }
   ],
   "source": [
    "## To understand how the model came up with the income \n",
    "## use the y = mx + c . y represents the income \n",
    "income = 828.46507522*2020+-1632210.7578554575\n",
    "income "
   ]
  },
  {
   "cell_type": "markdown",
   "id": "62bf0e68",
   "metadata": {},
   "source": [
    "## Show the plot "
   ]
  },
  {
   "cell_type": "code",
   "execution_count": 42,
   "id": "5a66e4db",
   "metadata": {},
   "outputs": [
    {
     "data": {
      "text/plain": [
       "[<matplotlib.lines.Line2D at 0x286669d8850>]"
      ]
     },
     "execution_count": 42,
     "metadata": {},
     "output_type": "execute_result"
    },
    {
     "data": {
      "image/png": "[encoded data removed]",
      "text/plain": [
       "<Figure size 432x288 with 1 Axes>"
      ]
     },
     "metadata": {
      "needs_background": "light"
     },
     "output_type": "display_data"
    }
   ],
   "source": [
    "%matplotlib inline \n",
    "plt.scatter(db.year, db.income, color = 'orange', marker='+')\n",
    "plt.plot(db.year, model.predict(db[['year']]), color = 'blue' )"
   ]
  },
  {
   "cell_type": "code",
   "execution_count": null,
   "id": "34296e78",
   "metadata": {},
   "outputs": [],
   "source": []
  }
 ],
 "metadata": {
  "kernelspec": {
   "display_name": "Python 3",
   "language": "python",
   "name": "python3"
  },
  "language_info": {
   "codemirror_mode": {
    "name": "ipython",
    "version": 3
   },
   "file_extension": ".py",
   "mimetype": "text/x-python",
   "name": "python",
   "nbconvert_exporter": "python",
   "pygments_lexer": "ipython3",
   "version": "3.8.8"
  }
 },
 "nbformat": 4,
 "nbformat_minor": 5
}
